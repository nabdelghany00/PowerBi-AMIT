{
  "nbformat": 4,
  "nbformat_minor": 0,
  "metadata": {
    "colab": {
      "private_outputs": true,
      "provenance": []
    },
    "kernelspec": {
      "name": "python3",
      "display_name": "Python 3"
    },
    "language_info": {
      "name": "python"
    }
  },
  "cells": [
    {
      "cell_type": "markdown",
      "source": [
        "# Load the dataset\n",
        "- Load the Tips dataset using pandas.\n"
      ],
      "metadata": {
        "id": "0bQsWvaQPZ7a"
      }
    },
    {
      "cell_type": "code",
      "source": [
        "import pandas as pd\n",
        "import numpy as np\n",
        "df=pd.read_csv(\"/content/tips.csv\")\n",
        "display(df)"
      ],
      "metadata": {
        "id": "FyafLbqguHcb"
      },
      "execution_count": null,
      "outputs": []
    },
    {
      "cell_type": "markdown",
      "source": [
        "# Basic data exploration\n",
        "- Display the first 5 rows of the dataset.\n",
        "- Display the summary statistics of the dataset.\n",
        "- Check for missing values in the dataset."
      ],
      "metadata": {
        "id": "gK8RCzLuPoK0"
      }
    },
    {
      "cell_type": "code",
      "source": [
        "display(df.head(5))\n",
        "display(df.info())\n",
        "display(df.isnull().sum())"
      ],
      "metadata": {
        "id": "NkXVZWf0ugNH"
      },
      "execution_count": null,
      "outputs": []
    },
    {
      "cell_type": "markdown",
      "source": [
        "# Data selection\n",
        "- Select the columns 'total_bill', 'tip', and 'sex'.\n",
        "- Select the rows where the 'total_bill' is greater than $20.\n",
        "- Select the rows where the day is 'Sun' and the 'time' is 'Dinner'.\n"
      ],
      "metadata": {
        "id": "dYidq4wwP28W"
      }
    },
    {
      "cell_type": "code",
      "source": [
        "selected_columns = df[[\"total_bill\",\"tip\",\"sex\"]]\n",
        "display(selected_columns)\n",
        "#----------------------------------\n",
        "display(df[df[\"total_bill\"]>20])\n",
        "#------------------------------------------\n",
        "display(df[(df['day'] == 'Sun') & (df['time'] == 'Dinner')])\n"
      ],
      "metadata": {
        "id": "QrwJNl36wxfu"
      },
      "execution_count": null,
      "outputs": []
    },
    {
      "cell_type": "markdown",
      "source": [],
      "metadata": {
        "id": "0hD3RmvqyNCu"
      }
    },
    {
      "cell_type": "markdown",
      "source": [
        "# Grouping and aggregation:\n",
        "\n",
        "- Calculate the average total bill for each day.\n",
        "- Calculate the sum of tips for each day.\n",
        "- Find the maximum total bill for each combination of day and time."
      ],
      "metadata": {
        "id": "tWlLGjNDQHGL"
      }
    },
    {
      "cell_type": "code",
      "source": [
        "display(df.groupby('day')['total_bill'].mean())\n",
        "#-------------------------------------------------------------\n",
        "display(df.groupby('day')['tip'].sum())\n",
        "#-----------------------------------------------------\n",
        "display(df.groupby(['day', 'time'])['total_bill'].max())"
      ],
      "metadata": {
        "id": "UFqaN6FX2UKL"
      },
      "execution_count": null,
      "outputs": []
    },
    {
      "cell_type": "markdown",
      "source": [
        "# Data transformation:\n",
        "\n",
        "- Add a new column 'tip_percentage' which is the tip divided by the total bill multiplied by 100.\n",
        "- Create a new column 'bill_per_person' which is the total bill divided by the number of people ('size')."
      ],
      "metadata": {
        "id": "eZ0C5HBMQVKR"
      }
    },
    {
      "cell_type": "code",
      "source": [
        "df['tip_percentage'] = (df['tip'] / df['total_bill']) * 100\n",
        "display(df)\n",
        "#----------------------------------------------\n",
        "df['bill_per_person'] = (df['total_bill'] / df['size'])\n",
        "display(df)"
      ],
      "metadata": {
        "id": "p9h7azj63tYO"
      },
      "execution_count": null,
      "outputs": []
    },
    {
      "cell_type": "markdown",
      "source": [
        "# Filtering:\n",
        "\n",
        "- Filter the rows where 'tip_percentage' is greater than 15%.\n",
        "- Filter the rows where 'total_bill' is in the top 10 highest bills."
      ],
      "metadata": {
        "id": "7KfLEXUiQjLK"
      }
    },
    {
      "cell_type": "code",
      "source": [
        "filtered_rows=df[df[\"tip_percentage\"]>15]\n",
        "display(filtered_rows)\n",
        "#----------------------------------------------\n",
        "top_10_bills = df['total_bill'].nlargest(10)\n",
        "filtered_df = df[df['total_bill'].isin(top_10_bills)]\n",
        "print(\"Top 10 Total Bills:\")\n",
        "display(filtered_df)\n",
        "\n"
      ],
      "metadata": {
        "id": "2BIiIU6F-G1Z"
      },
      "execution_count": null,
      "outputs": []
    },
    {
      "cell_type": "markdown",
      "source": [
        "# Sorting:\n",
        "\n",
        "- Sort the dataset by 'total_bill' in descending order."
      ],
      "metadata": {
        "id": "CNCIQquLQ0xe"
      }
    },
    {
      "cell_type": "code",
      "source": [
        "sorted=df.sort_values(by=\"total_bill\",ascending=False)\n",
        "display(sorted)\n",
        "#display(df[df[\"total_bill\"].isin(first_sorted)])"
      ],
      "metadata": {
        "id": "9w5xlh2uDxHT"
      },
      "execution_count": null,
      "outputs": []
    },
    {
      "cell_type": "markdown",
      "source": [
        "# Handling missing data:\n",
        "\n",
        "- Replace any missing values in the 'tip' column with the mean of the 'tip' column.\n",
        "- Drop any rows where the 'size' is missing."
      ],
      "metadata": {
        "id": "-LZj6q2ZRKuv"
      }
    },
    {
      "cell_type": "code",
      "source": [
        "tip_mean=df[\"tip\"].mean()\n",
        "print(tip_mean)\n",
        "df[\"tip\"].fillna(tip_mean,inplace=True)\n",
        "display(df)\n",
        "#---------------------------------------------------\n",
        "df.dropna(subset=[\"size\"],inplace=True)\n",
        "display(df)"
      ],
      "metadata": {
        "id": "Utb2PjDeD6v0"
      },
      "execution_count": null,
      "outputs": []
    }
  ]
}