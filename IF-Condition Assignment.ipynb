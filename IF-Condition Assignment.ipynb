{
 "cells": [
  {
   "attachments": {},
   "cell_type": "markdown",
   "id": "aa91efbb-eb2c-4685-91dd-2e825c21f5d0",
   "metadata": {},
   "source": [
    "implement a Python program that calculates a student's grade based on the entered degree, where the grading system is defined as follows: 90 to 100 corresponds to 'A,' 80 to 90 corresponds to 'B,' 70 to 80 corresponds to 'C,' 60 to 70 corresponds to 'D,' and any score below 60 corresponds to 'F'?\n"
   ]
  },
  {
   "cell_type": "code",
   "execution_count": 17,
   "id": "ae4c8868-2a3c-4fad-930b-c8b97fa2e65c",
   "metadata": {},
   "outputs": [
    {
     "name": "stdin",
     "output_type": "stream",
     "text": [
      "Enter your score here: 2\n"
     ]
    },
    {
     "name": "stdout",
     "output_type": "stream",
     "text": [
      "Your final grade is: F\n"
     ]
    }
   ],
   "source": [
    "score= float(input(\"Enter your score here:\"))\n",
    "if 0<=score<=100:\n",
    "    if 90<= score <=100:\n",
    "        Grade=\"A\"\n",
    "    elif 80<= score <90:\n",
    "        Grade=\"B\"\n",
    "    elif 70<= score <80:\n",
    "        Grade=\"C\"\n",
    "    elif 60<= score <70:\n",
    "        Grade=\"D\"\n",
    "    else:\n",
    "        Grade=\"F\"\n",
    "    print(\"Your final grade is:\",Grade)\n",
    "else:\n",
    "    print(\"Kindly re-enter a valid score.\")\n",
    "    \n"
   ]
  },
  {
   "cell_type": "code",
   "execution_count": null,
   "id": "29b09947-3deb-48ae-82ce-7e663e113186",
   "metadata": {},
   "outputs": [],
   "source": []
  }
 ],
 "metadata": {
  "kernelspec": {
   "display_name": "Python 3 (ipykernel)",
   "language": "python",
   "name": "python3"
  },
  "language_info": {
   "codemirror_mode": {
    "name": "ipython",
    "version": 3
   },
   "file_extension": ".py",
   "mimetype": "text/x-python",
   "name": "python",
   "nbconvert_exporter": "python",
   "pygments_lexer": "ipython3",
   "version": "3.12.7"
  }
 },
 "nbformat": 4,
 "nbformat_minor": 5
}
