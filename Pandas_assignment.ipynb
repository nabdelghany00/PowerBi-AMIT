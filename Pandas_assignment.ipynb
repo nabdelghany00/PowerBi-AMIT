{
  "nbformat": 4,
  "nbformat_minor": 0,
  "metadata": {
    "colab": {
      "private_outputs": true,
      "provenance": []
    },
    "kernelspec": {
      "name": "python3",
      "display_name": "Python 3"
    },
    "language_info": {
      "name": "python"
    }
  },
  "cells": [
    {
      "cell_type": "markdown",
      "source": [
        "# Explanation of data"
      ],
      "metadata": {
        "id": "D7vv7luF6AI9"
      }
    },
    {
      "cell_type": "markdown",
      "source": [
        "## 1-total_bill:\n",
        "\n",
        "Description: The total amount of the bill (in dollars) for the meal, including the cost of food and drinks.\n",
        "Data Type: Float\n",
        "Example: 16.99\n",
        "## 2-tip:\n",
        "\n",
        "Description: The amount of the tip (in dollars) given by the customer to the server.\n",
        "Data Type: Float\n",
        "Example: 1.01\n",
        "## 3-sex:\n",
        "\n",
        "Description: The gender of the person who paid for the meal.\n",
        "Data Type: Categorical (string)\n",
        "Possible Values: 'Male', 'Female'\n",
        "Example: 'Female'\n",
        "## 4-smoker:\n",
        "\n",
        "Description: Indicates whether there were smokers in the party.\n",
        "Data Type: Categorical (string)\n",
        "Possible Values: 'Yes', 'No'\n",
        "Example: 'No'\n",
        "## 5-day:\n",
        "\n",
        "Description: The day of the week when the meal was served.\n",
        "Data Type: Categorical (string)\n",
        "Possible Values: 'Thur' (Thursday), 'Fri' (Friday), 'Sat' (Saturday), 'Sun' (Sunday)\n",
        "Example: 'Sun'\n",
        "## 6-time:\n",
        "\n",
        "Description: The time of day when the meal was served.\n",
        "Data Type: Categorical (string)\n",
        "Possible Values: 'Lunch', 'Dinner'\n",
        "Example: 'Dinner'\n",
        "## 7-size:\n",
        "\n",
        "Description: The number of people in the party.\n",
        "Data Type: Integer\n",
        "Example: 2"
      ],
      "metadata": {
        "id": "KNHUt5m45s9k"
      }
    },
    {
      "cell_type": "markdown",
      "source": [
        "## Load the dataset"
      ],
      "metadata": {
        "id": "X_cxp0rIzH6Y"
      }
    },
    {
      "cell_type": "code",
      "source": [
        "import pandas as pd\n",
        "df=pd.read_csv(\"/content/tips.csv\")"
      ],
      "metadata": {
        "id": "Myo8X0LggeRW"
      },
      "execution_count": null,
      "outputs": []
    },
    {
      "cell_type": "markdown",
      "source": [
        "## Display the first few rows"
      ],
      "metadata": {
        "id": "4pSqsPPKzMI-"
      }
    },
    {
      "cell_type": "code",
      "source": [
        "#.head() method displays the given number of rows in a table entered by a user\n",
        "display(df.head(11))\n",
        "display(df)"
      ],
      "metadata": {
        "id": "q6WTJIX_hfql"
      },
      "execution_count": null,
      "outputs": []
    },
    {
      "cell_type": "markdown",
      "source": [
        "## Question 1: What is the average total bill amount?"
      ],
      "metadata": {
        "id": "QnWpnuZpzWnw"
      }
    },
    {
      "cell_type": "code",
      "source": [
        "print(df[\"total_bill\"])\n",
        "avg = df['total_bill'].mean()\n",
        "print(\"The average amount of paid bills is:\",avg)"
      ],
      "metadata": {
        "id": "ycD3_g8gipih"
      },
      "execution_count": null,
      "outputs": []
    },
    {
      "cell_type": "markdown",
      "source": [
        "## Question 2: How many records are in the dataset?\n",
        "\n",
        "\n",
        "\n"
      ],
      "metadata": {
        "id": "JHCnMe-kzk20"
      }
    },
    {
      "cell_type": "code",
      "source": [
        "#Returns the number of rows\n",
        "num_records = df.shape[0]\n",
        "print(f\"The dataset contains {num_records} records.\")\n"
      ],
      "metadata": {
        "id": "UyQaLLUSl5tx"
      },
      "execution_count": null,
      "outputs": []
    },
    {
      "cell_type": "markdown",
      "source": [
        "## Question 3: What is the total amount of tips given by male customers?\n"
      ],
      "metadata": {
        "id": "SPo07k6SzoI2"
      }
    },
    {
      "cell_type": "code",
      "source": [
        "df[df[\"sex\"]==\"Male\"][\"tip\"].sum()"
      ],
      "metadata": {
        "id": "7ZXGTOIkmpLz"
      },
      "execution_count": null,
      "outputs": []
    },
    {
      "cell_type": "markdown",
      "source": [
        "## Question 4: What is the maximum tip given?\n"
      ],
      "metadata": {
        "id": "1VacIheWzxVx"
      }
    },
    {
      "cell_type": "code",
      "source": [
        "maxTip=df['tip'].max()\n",
        "print(\"The max tip given is:\",maxTip)"
      ],
      "metadata": {
        "id": "oauTQc7RnglZ"
      },
      "execution_count": null,
      "outputs": []
    },
    {
      "cell_type": "markdown",
      "source": [
        "## Question 5: What are the unique days on which the tips were recorded?\n"
      ],
      "metadata": {
        "id": "BpjN-WYaz1Zb"
      }
    },
    {
      "cell_type": "code",
      "source": [
        "unique_days=df['day'].unique()\n",
        "print(f\"The unique days on which tips were recorded are: {unique_days}\")"
      ],
      "metadata": {
        "id": "f5u9HgBpIG9S"
      },
      "execution_count": null,
      "outputs": []
    },
    {
      "cell_type": "markdown",
      "source": [
        "## Question 6: What is the average tip amount given by female customers?\n"
      ],
      "metadata": {
        "id": "G5o62RuK0oSi"
      }
    },
    {
      "cell_type": "code",
      "source": [
        "df[df[\"sex\"]==\"Male\"][\"tip\"].mean()"
      ],
      "metadata": {
        "id": "xAzt-XJ3MlJd"
      },
      "execution_count": null,
      "outputs": []
    },
    {
      "cell_type": "markdown",
      "source": [
        "## Question 7: How many customers are non-smokers?\n"
      ],
      "metadata": {
        "id": "rcr7bhgL0tEf"
      }
    },
    {
      "cell_type": "code",
      "source": [
        "nonSmoker=df[df[\"smoker\"]==\"No\"][\"smoker\"].count()\n",
        "print(\"The number of non-smoker customers is:\",nonSmoker)"
      ],
      "metadata": {
        "id": "1ouZ_c19Mtbf"
      },
      "execution_count": null,
      "outputs": []
    },
    {
      "cell_type": "markdown",
      "source": [
        "## Question 8: What is the average total bill for dinners?\n"
      ],
      "metadata": {
        "id": "TX7HPM790yz3"
      }
    },
    {
      "cell_type": "code",
      "source": [
        "avg=df[df[\"time\"]==\"Dinner\"][\"total_bill\"].mean()\n",
        "print(f\"The average amount of total bills is {avg}\")"
      ],
      "metadata": {
        "id": "BvuheGu0N_Qc"
      },
      "execution_count": null,
      "outputs": []
    },
    {
      "cell_type": "markdown",
      "source": [
        "## Question 9: What is the smallest size of a group recorded?\n"
      ],
      "metadata": {
        "id": "PUKHp45z04H8"
      }
    },
    {
      "cell_type": "code",
      "source": [
        "least=df[\"size\"].min()\n",
        "print(f\"The smallest size of a group recorded is {least}\")"
      ],
      "metadata": {
        "id": "uP8DDSchRxi3"
      },
      "execution_count": null,
      "outputs": []
    },
    {
      "cell_type": "markdown",
      "source": [
        "## Question 10: What is the standard deviation of the total bill amounts?\n"
      ],
      "metadata": {
        "id": "b5CzsW2-1H5D"
      }
    },
    {
      "cell_type": "code",
      "source": [
        "std_dev=df[\"total_bill\"].std()\n",
        "print(f\"Standard deviation of the total bill amounts is:{std_dev}\")"
      ],
      "metadata": {
        "id": "te1rofOkhKm2"
      },
      "execution_count": null,
      "outputs": []
    },
    {
      "cell_type": "markdown",
      "source": [
        "## Question 11: How many male smokers are there compared to female smokers?\n"
      ],
      "metadata": {
        "id": "YSNjWBeD1lc-"
      }
    },
    {
      "cell_type": "code",
      "source": [
        "male_count=df[df[\"sex\"]==\"Male\"][\"smoker\"].count()\n",
        "female_count=df[df[\"sex\"]==\"Female\"][\"smoker\"].count()\n",
        "print(f\"The percentage of male smokers is {(male_count/(male_count+female_count))*100}\")\n",
        "print(f\"The percentage of female smokers is {(female_count/(male_count+female_count))*100}\")"
      ],
      "metadata": {
        "id": "2P1WfMUYiljW"
      },
      "execution_count": null,
      "outputs": []
    },
    {
      "cell_type": "markdown",
      "source": [
        "## Question 12: How much more do male customers tip on average than female customers?"
      ],
      "metadata": {
        "id": "dpN7kz5_2gra"
      }
    },
    {
      "cell_type": "code",
      "source": [
        "male_avg=df[df[\"sex\"]==\"Male\"][\"tip\"].mean()\n",
        "female_avg=df[df[\"sex\"]==\"Female\"][\"tip\"].mean()\n",
        "print(f\"The average amount of tips given by male cst is {male_avg}, while that the given by female cst is {female_avg}\")"
      ],
      "metadata": {
        "id": "ZRyJxvoBlL8e"
      },
      "execution_count": null,
      "outputs": []
    },
    {
      "cell_type": "markdown",
      "source": [
        "## Question 13: What is the median tip amount given by customers on Thursdays?"
      ],
      "metadata": {
        "id": "b7mTBmr_2ruR"
      }
    },
    {
      "cell_type": "code",
      "source": [
        "median_value = df[df[\"day\"]==\"Thur\"][\"tip\"].median()\n",
        "\n",
        "print(f\"The median value of the tip amount is: {median_value}\")\n"
      ],
      "metadata": {
        "id": "dOQnSbPJ7IUS"
      },
      "execution_count": null,
      "outputs": []
    },
    {
      "cell_type": "markdown",
      "source": [
        "## Question 14: What is the total tip amount given by customers on Friday?\n"
      ],
      "metadata": {
        "id": "QHElT5hT20Oy"
      }
    },
    {
      "cell_type": "code",
      "source": [
        "friAmount=df[df[\"day\"]==\"Fri\"][\"tip\"].sum()\n",
        "print(f\"The total amount of tips given by customers on Fridays is: {friAmount}\")"
      ],
      "metadata": {
        "id": "0Mg7kvbC8Dhn"
      },
      "execution_count": null,
      "outputs": []
    },
    {
      "cell_type": "markdown",
      "source": [
        "## Question 15: What is the average tip amount for non-smokers during dinner time?"
      ],
      "metadata": {
        "id": "TrGCWY4M3BXA"
      }
    },
    {
      "cell_type": "code",
      "source": [
        "nonSmokeTip=df[(df[\"smoker\"]==\"No\" )&(df[\"time\"]==\"Dinner\")][\"tip\"].mean()\n",
        "print(nonSmokeTip)"
      ],
      "metadata": {
        "id": "Y8tLT-jY8f9u"
      },
      "execution_count": null,
      "outputs": []
    },
    {
      "cell_type": "markdown",
      "source": [
        "## Question 16: How much does the total bill vary between smokers and non-smokers?"
      ],
      "metadata": {
        "id": "GX4IpGLw3apS"
      }
    },
    {
      "cell_type": "code",
      "source": [
        "totalBillDiff=abs(df[df[\"smoker\"]==\"Yes\"][\"total_bill\"].sum()-df[df[\"smoker\"]==\"No\"][\"total_bill\"].sum())\n",
        "print(f\"Bill variance is: {totalBillDiff}\")"
      ],
      "metadata": {
        "id": "6xeh_OeIuVXn"
      },
      "execution_count": null,
      "outputs": []
    },
    {
      "cell_type": "markdown",
      "source": [
        "## Question 17: What is the most common day for customers to visit the restaurant?"
      ],
      "metadata": {
        "id": "sk1RdKdA3gjW"
      }
    },
    {
      "cell_type": "code",
      "source": [
        "#extracts the first mode (in case there were ties)\n",
        "commonDay=df[\"day\"].mode()[0]\n",
        "print(f\"The most common day for csts to visit the restaurant is {commonDay}\")"
      ],
      "metadata": {
        "id": "cX_z_5QZwsPw"
      },
      "execution_count": null,
      "outputs": []
    },
    {
      "cell_type": "markdown",
      "source": [
        "## Question 18: What is the range of tip amounts for female customers?\n"
      ],
      "metadata": {
        "id": "JZPzrSv13s5l"
      }
    },
    {
      "cell_type": "code",
      "source": [
        "femMinAmount=df[df[\"sex\"]==\"Female\"][\"tip\"].min()\n",
        "femMaxAmount=df[df[\"sex\"]==\"Female\"][\"tip\"].max()\n",
        "print(f\"The number of tip amounts for female customers ranges from {femMinAmount} to {femMaxAmount} \")"
      ],
      "metadata": {
        "id": "aj133MV2zH81"
      },
      "execution_count": null,
      "outputs": []
    },
    {
      "cell_type": "markdown",
      "source": [
        "## Question 19: Calculate the total bill for parties of 5 or more people (size).\n"
      ],
      "metadata": {
        "id": "9Ph119P83yt9"
      }
    },
    {
      "cell_type": "code",
      "source": [
        "totalBill=df[df[\"size\"]>=5][\"total_bill\"].sum()\n",
        "print(f\"The total bill for parties of people greater than 5 persons is:{totalBill}\")"
      ],
      "metadata": {
        "id": "mnx10qmmz97q"
      },
      "execution_count": null,
      "outputs": []
    },
    {
      "cell_type": "markdown",
      "source": [
        "## Question 20: What is the highest total bill recorded during lunch?\n"
      ],
      "metadata": {
        "id": "yzo5Sqdk39Aw"
      }
    },
    {
      "cell_type": "code",
      "source": [
        "maxBillLunch=df[df[\"time\"]==\"Lunch\"][\"total_bill\"].max()\n",
        "print(f\"The highest bill was paid during lunch time was: {maxBillLunch}\")"
      ],
      "metadata": {
        "id": "1jeLBUm40ozr"
      },
      "execution_count": null,
      "outputs": []
    },
    {
      "cell_type": "markdown",
      "source": [
        "## Question 21: How many customers visited the restaurant on weekends (Saturday and Sunday) and ordered a total bill of more than $20?"
      ],
      "metadata": {
        "id": "4MeSEXbB4HG8"
      }
    },
    {
      "cell_type": "code",
      "execution_count": null,
      "metadata": {
        "id": "6stWYMnSu4rF"
      },
      "outputs": [],
      "source": [
        "f\"Number of visitors is {df[(df['day'].isin(['Sun','Sat'])) & (df['total_bill'] > 20)]['sex'].count()} visitors\""
      ]
    },
    {
      "cell_type": "markdown",
      "source": [
        "\n",
        "\n",
        "```\n",
        "# Hint isin ()\n",
        "\n",
        "```\n",
        "\n"
      ],
      "metadata": {
        "id": "WIgnNtRO4K6L"
      }
    },
    {
      "cell_type": "code",
      "source": [],
      "metadata": {
        "id": "gQDSaviK4J3y"
      },
      "execution_count": null,
      "outputs": []
    }
  ]
}