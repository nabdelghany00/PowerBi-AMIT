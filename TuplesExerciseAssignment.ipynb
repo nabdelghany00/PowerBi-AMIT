{
 "cells": [
  {
   "cell_type": "markdown",
   "id": "75147628-77e2-4d0e-8dc4-188685f4ea59",
   "metadata": {},
   "source": [
    "Tuples Exercises "
   ]
  },
  {
   "cell_type": "code",
   "execution_count": 5,
   "id": "34203413-a8c5-437f-8ef0-db4bcabbc02c",
   "metadata": {},
   "outputs": [
    {
     "name": "stdout",
     "output_type": "stream",
     "text": [
      "The entered tuple is:  (1, 3, 5, 7, 9)\n",
      "The 3rd item in this tiple is:  5\n"
     ]
    }
   ],
   "source": [
    "#1-Write a Python program to create a tuple of numbers and print one item.\n",
    "tuple1=(1,3,5,7,9)\n",
    "print(\"The entered tuple is: \",tuple1)\n",
    "print(\"The 3rd item in this tiple is: \",tuple1[2])"
   ]
  },
  {
   "cell_type": "code",
   "execution_count": 21,
   "id": "dd03b91b-579e-436d-bdbd-42a5dab1f747",
   "metadata": {},
   "outputs": [
    {
     "name": "stdout",
     "output_type": "stream",
     "text": [
      "('hello ', 'world', ' python', ' learning')\n",
      "hello world python learning\n"
     ]
    }
   ],
   "source": [
    "#2- Write a Python program to unpack a tuple into several variables.\n",
    "tuple2=(\"hello \",\"world\",\" python\",\" learning\")\n",
    "print(tuple2)\n",
    "a,b,c,d=tuple2\n",
    "print(a + b + c + d )\n"
   ]
  },
  {
   "cell_type": "code",
   "execution_count": 27,
   "id": "531b758a-9d96-4f6f-8450-7d6a172347c6",
   "metadata": {},
   "outputs": [
    {
     "name": "stdout",
     "output_type": "stream",
     "text": [
      "(1, 2, 'Numbers', 3, 4, 5, 6)\n"
     ]
    }
   ],
   "source": [
    "#3-Write a Python program to add an item to a tuple at index number 2.\n",
    "tuple3=(1,2,3,4,5,6)\n",
    "list1=list(tuple3)\n",
    "list1.insert(2,\"Numbers\")\n",
    "tuple3=tuple(list1)\n",
    "print(tuple3)"
   ]
  },
  {
   "cell_type": "code",
   "execution_count": 35,
   "id": "bf80125f-217b-4ea4-bb50-e07b08428b15",
   "metadata": {},
   "outputs": [
    {
     "name": "stdout",
     "output_type": "stream",
     "text": [
      "exercises\n"
     ]
    }
   ],
   "source": [
    "#4-Write a Python program to convert a tuple to a string.\n",
    "tuple4=('e', 'x', 'e', 'r', 'c', 'i', 's', 'e', 's')\n",
    "string1=\"\".join(tuple4)\n",
    "print(string1)"
   ]
  },
  {
   "cell_type": "code",
   "execution_count": 41,
   "id": "f561afb4-5e14-4e26-8531-ae4432151f23",
   "metadata": {},
   "outputs": [
    {
     "name": "stdout",
     "output_type": "stream",
     "text": [
      "The number 1 is not repeated\n",
      "The number 2 is repeated\n",
      "The number 2 is repeated\n",
      "The number 3 is repeated\n",
      "The number 3 is repeated\n",
      "The number 3 is repeated\n",
      "The number 4 is not repeated\n",
      "The number 5 is not repeated\n",
      "The number 6 is not repeated\n"
     ]
    }
   ],
   "source": [
    "#5-Write a Python program to find repeated items in a tuple.\n",
    "tuple5=(1,2,2,3,3,3,4,5,6)\n",
    "for i in tuple5:\n",
    "    if tuple5.count(i)>1:\n",
    "        print(f\"The number {i} is repeated\")\n",
    "    else:\n",
    "        print(f\"The number {i} is not repeated\")"
   ]
  },
  {
   "cell_type": "code",
   "execution_count": 49,
   "id": "72d88437-29ac-4d29-8cb0-b6230693075a",
   "metadata": {},
   "outputs": [
    {
     "name": "stdout",
     "output_type": "stream",
     "text": [
      "(1, 2, 4, 5, 6, 7)\n"
     ]
    }
   ],
   "source": [
    "#6-Write a Python program to remove an item from a tuple.\n",
    "tuple6=(1,2,3,4,5,6,7)\n",
    "list2=list(tuple6)\n",
    "list2.remove(3)\n",
    "tuple6=tuple(list2)\n",
    "print(tuple6)"
   ]
  },
  {
   "cell_type": "code",
   "execution_count": 51,
   "id": "50015fb2-727b-446d-bd81-f0b027670538",
   "metadata": {},
   "outputs": [
    {
     "name": "stdout",
     "output_type": "stream",
     "text": [
      "(7, 4, 1, 4, 5, 2)\n"
     ]
    }
   ],
   "source": [
    "#7- Write a Python program to reverse a tuple.\n",
    "tuple7=(2,5,4,1,4,7)\n",
    "list3=list(tuple7)\n",
    "tuple7=list3.reverse()\n",
    "tuple7=tuple(list3)\n",
    "print(tuple7)"
   ]
  },
  {
   "cell_type": "code",
   "execution_count": 50,
   "id": "91d40b6b-4f03-4be0-aa34-4d3edff18ac8",
   "metadata": {},
   "outputs": [
    {
     "name": "stdout",
     "output_type": "stream",
     "text": [
      "[(1, 'DummyText'), (3, 4, 'DummyText'), (6, 7, 'DummyText')]\n"
     ]
    }
   ],
   "source": [
    "#8- Write a Python program to replace the last value of tuples in a list.\n",
    "tuples_list=[(1,2),(3,4,5),(6,7,8)]\n",
    "newValue=\"DummyText\"\n",
    "updatedList=[(t[:-1] + (newValue,)) for t in tuples_list]\n",
    "print(updatedList)"
   ]
  },
  {
   "cell_type": "markdown",
   "id": "6e3d1fad-ce0d-4318-ac80-d76e60e3e22e",
   "metadata": {},
   "source": [
    "Lists Exercises"
   ]
  },
  {
   "cell_type": "code",
   "execution_count": 54,
   "id": "c2a1404f-8afb-4433-b705-4900fce6c0f2",
   "metadata": {},
   "outputs": [
    {
     "name": "stdout",
     "output_type": "stream",
     "text": [
      "['Banana', 'Watermelon', 'Mango']\n",
      "['Banana', 'Watermelon', 'Mango', 'Apples']\n"
     ]
    }
   ],
   "source": [
    "#1-Create a list of your favorite fruits. Add another fruit to the end of the list using append()\n",
    "list4= [\"Banana\",\"Watermelon\",\"Mango\"]\n",
    "print(list4)\n",
    "list4.append(\"Apples\")\n",
    "print(list4)"
   ]
  },
  {
   "cell_type": "code",
   "execution_count": 60,
   "id": "766cca99-62c4-4fb6-a94e-d15c7b1875e4",
   "metadata": {},
   "outputs": [
    {
     "name": "stdout",
     "output_type": "stream",
     "text": [
      "[1, 2, 3, 4, 5, 6, 7, 8]\n"
     ]
    }
   ],
   "source": [
    "#2- Create two lists of numbers, then extend the first list by adding all elements from the second list using extend()\n",
    "list5=[1,2,3,4,5]\n",
    "list6=[6,7,8]\n",
    "list5.extend(list6[0:])\n",
    "print(list5)"
   ]
  },
  {
   "cell_type": "code",
   "execution_count": 63,
   "id": "12c68404-a33e-43f4-8b86-e95cd9df0278",
   "metadata": {},
   "outputs": [
    {
     "name": "stdout",
     "output_type": "stream",
     "text": [
      "['Green', 'Yellow', 'Blue', 'Red']\n",
      "['Green', 'Violet', 'Yellow', 'Blue', 'Red']\n"
     ]
    }
   ],
   "source": [
    "#3- insert(index, item) Start with a list of colors. Insert a new color at the second position (index 1).\n",
    "list7=[\"Green\",\"Yellow\",\"Blue\",\"Red\"]\n",
    "print(list7)\n",
    "list7.insert(1,\"Violet\")\n",
    "print(list7)"
   ]
  },
  {
   "cell_type": "code",
   "execution_count": 75,
   "id": "768fa253-19e6-4e24-a26b-b048ae3b8260",
   "metadata": {},
   "outputs": [
    {
     "name": "stdout",
     "output_type": "stream",
     "text": [
      "['Munich', 'Milan', 'Amsterdam', 'Cairo', 'Paris', 'Liverpool', 'Paris', 'Milan']\n",
      "['Munich', 'Amsterdam', 'Cairo', 'Liverpool', 'Paris', 'Milan']\n"
     ]
    }
   ],
   "source": [
    "#4-Create a list of city names with some duplicates. Use remove() to delete the first occurrence of a city\n",
    "cities=[\"Munich\",\"Milan\",\"Amsterdam\",\"Cairo\",\"Paris\",\"Liverpool\",\"Paris\",\"Milan\"]\n",
    "print(cities)\n",
    "for city in cities:\n",
    "    if cities.count(city)>1:\n",
    "        cities.remove(city)\n",
    "print(cities)"
   ]
  },
  {
   "cell_type": "code",
   "execution_count": 83,
   "id": "08e9bf35-84cb-4fe2-8f62-273bb6f4624c",
   "metadata": {},
   "outputs": [
    {
     "name": "stdout",
     "output_type": "stream",
     "text": [
      "The list is:  ['Lion', 'Chimpanzee', 'Giraffe', 'Elephant', 'Bear']\n",
      "The updated list is:  ['Lion', 'Chimpanzee', 'Elephant', 'Bear']\n",
      "The deleted item is: Giraffe\n"
     ]
    }
   ],
   "source": [
    "#5- pop(index) Make a list of your favorite animals. Use pop() to remove the animal at the third position and store it in a variable.\n",
    "FavAnimals=[\"Lion\",\"Chimpanzee\",\"Giraffe\",\"Elephant\",\"Bear\"]\n",
    "print(\"The list is: \", FavAnimals)\n",
    "updated=FavAnimals.pop(2)\n",
    "print(\"The updated list is: \",FavAnimals)\n",
    "print(\"The deleted item is:\",updated)"
   ]
  },
  {
   "cell_type": "code",
   "execution_count": 85,
   "id": "0c877a36-9a3b-4fa2-bc0e-129a332eb571",
   "metadata": {},
   "outputs": [
    {
     "name": "stdout",
     "output_type": "stream",
     "text": [
      "[2, 5, 3, 7, 5, 9, 4]\n",
      "[]\n"
     ]
    }
   ],
   "source": [
    "#6- Create a list of random numbers, then clear it using clear().\n",
    "randomNum=[2,5,3,7,5,9,4]\n",
    "print(randomNum)\n",
    "randomNum.clear()\n",
    "print(randomNum)"
   ]
  },
  {
   "cell_type": "markdown",
   "id": "5785dfe3-6501-46e5-be38-4634ea168173",
   "metadata": {},
   "source": [
    "Dictionary"
   ]
  },
  {
   "cell_type": "code",
   "execution_count": 93,
   "id": "a965f72a-a0d1-445d-81cc-74ab499260d0",
   "metadata": {},
   "outputs": [
    {
     "name": "stdout",
     "output_type": "stream",
     "text": [
      "The capital of France is: Paris\n"
     ]
    }
   ],
   "source": [
    "#1- Create a dictionary of country capitals. Use get() to retrieve the capital of 'France', with a default value if it’s not in the dictionary.\n",
    "country_capitals = {\n",
    "    \"Italy\": \"Milan\",\n",
    "    \"Japan\": \"Tokyo\",\n",
    "    \"Germany\": \"Berlin\",\n",
    "    \"Egypt\": \"Cairo\",\n",
    "    \"France\":\"Paris\"}\n",
    "capital = country_capitals.get(\"France\", \"Capital not found\")\n",
    "print(\"The capital of France is:\",capital)\n"
   ]
  },
  {
   "cell_type": "code",
   "execution_count": 95,
   "id": "eeb4a07c-f301-4cc7-af5c-29852b3aeb94",
   "metadata": {},
   "outputs": [
    {
     "name": "stdout",
     "output_type": "stream",
     "text": [
      "List of programming languages: ['Python', 'JavaScript', 'Java', 'PHP']\n"
     ]
    }
   ],
   "source": [
    "#2- Make a dictionary of programming languages and their popular frameworks. Use keys() to get a list of all languages.\n",
    "lang = {\"Python\": [\"Django\", \"Flask\"], \"JavaScript\": [\"React\", \"Angular\", \"Vue.js\"],\"Java\": [\"Spring\", \"Hibernate\", \"Struts\"],\"PHP\": [\"Laravel\", \"Symfony\", \"CodeIgniter\"]}\n",
    "languages = lang.keys()\n",
    "print(\"List of programming languages:\",list(languages))\n"
   ]
  },
  {
   "cell_type": "code",
   "execution_count": 97,
   "id": "acb41bcb-66f4-47dd-a6d9-cf8fc6dcd84d",
   "metadata": {},
   "outputs": [
    {
     "name": "stdout",
     "output_type": "stream",
     "text": [
      "List of all frameworks: [['Django', 'Flask'], ['React', 'Angular', 'Vue.js'], ['Spring', 'Hibernate', 'Struts'], ['Laravel', 'Symfony', 'CodeIgniter']]\n"
     ]
    }
   ],
   "source": [
    "#3-Using the previous dictionary, get a list of all frameworks using values().\n",
    "frameworks=lang.values()\n",
    "print(\"List of all frameworks:\",list(frameworks))"
   ]
  },
  {
   "cell_type": "code",
   "execution_count": 103,
   "id": "9e23de31-f0ee-44b7-98ad-541cadaaec6d",
   "metadata": {},
   "outputs": [
    {
     "name": "stdout",
     "output_type": "stream",
     "text": [
      "List of all items is: [('NVIDIA GTX 1660TI', 9800), ('Intel Core i5-10400F', 3300), ('DELL Gaming Monitor', 3200), ('8GB RAM', 570)]\n"
     ]
    }
   ],
   "source": [
    "#4-Use items() to get a list of all key-value pairs in a dictionary representing items and their prices.\n",
    "items={\"NVIDIA GTX 1660TI\":9800,\"Intel Core i5-10400F\":3300,\"DELL Gaming Monitor\":3200,\"8GB RAM\":570}\n",
    "listedItems=items.items()\n",
    "print(\"List of all items is:\",list(listedItems))"
   ]
  },
  {
   "cell_type": "code",
   "execution_count": 107,
   "id": "d9a5d865-d8dc-43b3-9887-7abd11a1ba82",
   "metadata": {},
   "outputs": [
    {
     "name": "stdout",
     "output_type": "stream",
     "text": [
      "{'key1': 100, 'key2': 200, 'key3': 300, 'key4': 400, 'key5': 500, 'key6': 600}\n"
     ]
    }
   ],
   "source": [
    "#5- Create a dictionary with some initial values, and then use update() to add more items.\n",
    "diction={\"key1\":100,\"key2\":200,\"key3\":300,\"key4\":400}\n",
    "diction.update({\"key5\":500,\"key6\":600})\n",
    "print(diction)"
   ]
  },
  {
   "cell_type": "code",
   "execution_count": 111,
   "id": "d9c47af7-115c-451f-9745-b4959ba1f490",
   "metadata": {},
   "outputs": [
    {
     "name": "stdout",
     "output_type": "stream",
     "text": [
      "{'Stud1': 'Ahmed', 'Stud2': 'Fares', 'Stud3': 'Mohamed', 'Stud4': 'Youssef'}\n",
      "{'Stud1': 'Ahmed', 'Stud3': 'Mohamed', 'Stud4': 'Youssef'}\n",
      "The popped values is: Fares\n"
     ]
    }
   ],
   "source": [
    "#6- Remove an item from a dictionary of students by using pop(), then store the popped value in a variable.\n",
    "dict2={\"Stud1\":\"Ahmed\",\"Stud2\":\"Fares\",\"Stud3\":\"Mohamed\",\"Stud4\":\"Youssef\"}\n",
    "print(dict2)\n",
    "poppedVar=dict2.pop(\"Stud2\")\n",
    "print(dict2)\n",
    "print(\"The popped values is:\",poppedVar)"
   ]
  },
  {
   "cell_type": "code",
   "execution_count": 115,
   "id": "d44821ec-e6af-493e-a3c8-31903b8380b6",
   "metadata": {},
   "outputs": [
    {
     "name": "stdout",
     "output_type": "stream",
     "text": [
      "{'Biology': 'B+', 'Calculus': 'A-', 'Algebra': 'A', 'Psychology': 'B+', 'History': 'B'}\n",
      "{}\n"
     ]
    }
   ],
   "source": [
    "#7-Create a dictionary and use clear() to remove all items.\n",
    "dict3={\"Biology\":\"B+\",\"Calculus\":\"A-\",\"Algebra\":\"A\",\"Psychology\":\"B+\",\"History\":\"B\"}\n",
    "print(dict3)\n",
    "dict3.clear()\n",
    "print(dict3)"
   ]
  },
  {
   "cell_type": "code",
   "execution_count": null,
   "id": "b6d359a8-271b-4a1e-9dc1-c28f8edcaad0",
   "metadata": {},
   "outputs": [],
   "source": []
  }
 ],
 "metadata": {
  "kernelspec": {
   "display_name": "Python 3 (ipykernel)",
   "language": "python",
   "name": "python3"
  },
  "language_info": {
   "codemirror_mode": {
    "name": "ipython",
    "version": 3
   },
   "file_extension": ".py",
   "mimetype": "text/x-python",
   "name": "python",
   "nbconvert_exporter": "python",
   "pygments_lexer": "ipython3",
   "version": "3.12.7"
  }
 },
 "nbformat": 4,
 "nbformat_minor": 5
}
